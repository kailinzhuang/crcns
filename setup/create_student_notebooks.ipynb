{
 "cells": [
  {
   "cell_type": "code",
   "execution_count": 4,
   "metadata": {},
   "outputs": [],
   "source": [
    "from nbclean import NotebookCleaner\n",
    "import os\n",
    "from glob import glob"
   ]
  },
  {
   "cell_type": "code",
   "execution_count": 5,
   "metadata": {},
   "outputs": [],
   "source": [
    "path_save = '.{0}student_notebooks{0}'.format(os.sep)\n",
    "if not os.path.exists(path_save):\n",
    "    os.makedirs(path_save)"
   ]
  },
  {
   "cell_type": "code",
   "execution_count": 9,
   "metadata": {},
   "outputs": [
    {
     "name": "stdout",
     "output_type": "stream",
     "text": [
      "Converting 7 notebooks\n"
     ]
    }
   ],
   "source": [
    "notebooks = glob('../python/*/*.ipynb')\n",
    "notebooks += glob('../python/*/*/*.ipynb')\n",
    "print('Converting {} notebooks'.format(len(notebooks)))"
   ]
  },
  {
   "cell_type": "code",
   "execution_count": 10,
   "metadata": {},
   "outputs": [
    {
     "name": "stdout",
     "output_type": "stream",
     "text": [
      "../python/needs_review/exercise-direct_fit.ipynb\n",
      "Saving to ./student_notebooks/needs_review/exercise-direct_fit.ipynb\n",
      "../python/needs_review/tutorial-coherence.ipynb\n",
      "Saving to ./student_notebooks/needs_review/tutorial-coherence.ipynb\n",
      "../python/needs_review/gradient_descent/exercise-gradient_descent.ipynb\n",
      "Saving to ./student_notebooks/needs_review/gradient_descent/exercise-gradient_descent.ipynb\n",
      "../python/needs_review/logistic_regression/logistic_regression.ipynb\n",
      "Saving to ./student_notebooks/needs_review/logistic_regression/logistic_regression.ipynb\n",
      "../python/to_convert/cross_coherence/cross_correlation_tutorial.ipynb\n",
      "Saving to ./student_notebooks/to_convert/cross_coherence/cross_correlation_tutorial.ipynb\n",
      "../python/to_convert/cross_coherence/granger_tutorial.ipynb\n",
      "Saving to ./student_notebooks/to_convert/cross_coherence/granger_tutorial.ipynb\n",
      "../python/to_convert/gradient_descent_strflab/gradient_descent.ipynb\n",
      "Saving to ./student_notebooks/to_convert/gradient_descent_strflab/gradient_descent.ipynb\n"
     ]
    }
   ],
   "source": [
    "for notebook in notebooks:\n",
    "    print(notebook)\n",
    "    # Replace path so it is sent to our current folder\n",
    "    this_path_save = notebook.replace('..{0}python{0}'.format(os.sep), path_save)\n",
    "    \n",
    "    # Replace answers and clear outputs\n",
    "    cleaner = NotebookCleaner(notebook)\n",
    "    cleaner.replace_text('## SOLUTION BEGIN', '## SOLUTION END')\n",
    "    cleaner.clear(output=True, stderr=True)\n",
    "    \n",
    "    # Save to this folder\n",
    "    cleaner.save(this_path_save)"
   ]
  }
 ],
 "metadata": {
  "kernelspec": {
   "display_name": "Python 3",
   "language": "python",
   "name": "python3"
  },
  "language_info": {
   "codemirror_mode": {
    "name": "ipython",
    "version": 3
   },
   "file_extension": ".py",
   "mimetype": "text/x-python",
   "name": "python",
   "nbconvert_exporter": "python",
   "pygments_lexer": "ipython3",
   "version": "3.6.1"
  }
 },
 "nbformat": 4,
 "nbformat_minor": 2
}
