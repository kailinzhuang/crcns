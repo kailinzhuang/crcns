{
 "cells": [
  {
   "cell_type": "markdown",
   "metadata": {},
   "source": [
    "# Estimation of linear filter using analytical solution\n",
    "## Comparison of the solution using the Normal Equation, PC regression and Ridge.\n",
    "### In this exercise you will estimate a visual spatio-temporal receptive field from a model neuron driven by a natural movie. "
   ]
  },
  {
   "cell_type": "code",
   "execution_count": 1,
   "metadata": {
    "collapsed": true
   },
   "outputs": [],
   "source": [
    "# Load up the depencies\n",
    "\n",
    "import numpy as np\n",
    "import mne\n",
    "import os.path as op\n",
    "import os\n",
    "import matplotlib.pyplot as plt\n",
    "from scipy.io import loadmat\n",
    "from scipy.signal import convolve\n",
    "plt.ion()"
   ]
  },
  {
   "cell_type": "code",
   "execution_count": 2,
   "metadata": {
    "collapsed": true
   },
   "outputs": [],
   "source": [
    "# Set up the paths for the data\n",
    "path_base = '/Users/frederictheunissen/Documents/Classes/Summer Course/2016/theunissen_tutorials'\n",
    "path_data = op.join(path_base, 'data')\n",
    "path_stims = op.join(path_data, 'all_stims')\n"
   ]
  },
  {
   "cell_type": "markdown",
   "metadata": {},
   "source": [
    "## Load a 20000 (time) x 10 x 10  natural movie and preprocess"
   ]
  },
  {
   "cell_type": "code",
   "execution_count": 4,
   "metadata": {
    "collapsed": true
   },
   "outputs": [],
   "source": [
    "# Load up the movie.  Notice the size of the movie.\n",
    "data = loadmat(op.join(path_data, 'mov.mat'))\n",
    "movie_all = data['mov']\n",
    "movie_all = movie_all.transpose([2, 0, 1])\n",
    "print(movie_all.shape)"
   ]
  },
  {
   "cell_type": "code",
   "execution_count": 6,
   "metadata": {
    "collapsed": true
   },
   "outputs": [],
   "source": [
    "# Subtract the mean to obtain a zeroed stimulus\n",
    "mean_stim = movie_all.mean()\n",
    "movie_all = movie_all - mean_stim\n",
    "fitPoints = 15000\n",
    "\n",
    "# Part of the movie for fitting\n",
    "movie = movie_all[0:fitPoints]\n",
    "\n",
    "# Part of the movie for testing\n",
    "movie_test = movie_all[fitPoints:]"
   ]
  },
  {
   "cell_type": "markdown",
   "metadata": {},
   "source": [
    "## Exercise 1  \n",
    "### Using subplots plot the first 10 images.\n",
    "### Using these pictures comment on the temporal and spatial correlations.\n",
    "### Plot them using a grey map and with the correct aspect ratio. Also remove the two axes."
   ]
  },
  {
   "cell_type": "code",
   "execution_count": 7,
   "metadata": {
    "collapsed": true
   },
   "outputs": [],
   "source": [
    "# YOUR CODE HERE\n",
    "raise NotImplementedError()"
   ]
  },
  {
   "cell_type": "markdown",
   "metadata": {},
   "source": [
    "### Now plot images 10, 100, 1000, 10000.  "
   ]
  },
  {
   "cell_type": "code",
   "execution_count": 8,
   "metadata": {
    "collapsed": true
   },
   "outputs": [],
   "source": [
    "# YOUR CODE HERE\n",
    "raise NotImplementedError()"
   ]
  },
  {
   "cell_type": "markdown",
   "metadata": {},
   "source": [
    "Comment on spatial / temporal correlations here:\n",
    "\n",
    "---\n",
    "## <span style=\"color:red\">Student Answer</span>\n",
    "\n",
    "*Double-click and add your answer between the lines*\n",
    "\n",
    "---\n"
   ]
  },
  {
   "cell_type": "markdown",
   "metadata": {},
   "source": [
    "## Model Neuron.\n",
    "### We are going to create responses for model simple cell in V1 with a STRF that is a 2D Gabor filter.\n"
   ]
  },
  {
   "cell_type": "code",
   "execution_count": 9,
   "metadata": {
    "collapsed": true
   },
   "outputs": [],
   "source": [
    "# Generating a 2d Gabor \n",
    "\n",
    "# Some useful functions\n",
    "from skimage.filters import gabor, gabor_kernel\n",
    "from scipy import ndimage as ndi"
   ]
  },
  {
   "cell_type": "code",
   "execution_count": 10,
   "metadata": {
    "collapsed": true
   },
   "outputs": [],
   "source": [
    "# We are only going to use on gabor but here is code that you can use\n",
    "# to generate a filter bank. We are calling the filters kernels.\n",
    "\n",
    "kernels = []\n",
    "theta = 0       # Orientation of the Gabor in degrees\n",
    "theta = (theta/180.0) * np.pi # In radiants.\n",
    "sigma = 1       # Bandwidth\n",
    "frequency = 0.4  # Spatial frequency in pixels.\n",
    "offset = np.pi/8\n",
    "\n",
    "kernel = np.real(gabor_kernel(frequency, theta=theta, bandwidth=sigma, offset = offset))\n",
    "kernel = kernel[:10, :10]\n",
    "kernels.append(kernel)\n",
    "\n",
    "kernel = np.imag(gabor_kernel(frequency, theta=theta, bandwidth=sigma, offset = offset))\n",
    "kernel = kernel[:10, :10]\n",
    "kernels.append(kernel)\n",
    "\n"
   ]
  },
  {
   "cell_type": "markdown",
   "metadata": {},
   "source": [
    "## Exercise 2  \n",
    "### We have generated two Gabors with sine and cosine harmonic. Plot them using grey scale.  \n"
   ]
  },
  {
   "cell_type": "code",
   "execution_count": 11,
   "metadata": {
    "collapsed": true
   },
   "outputs": [],
   "source": [
    "# YOUR CODE HERE\n",
    "raise NotImplementedError()"
   ]
  },
  {
   "cell_type": "markdown",
   "metadata": {
    "collapsed": true
   },
   "source": [
    "## Generation of the model neuron response.\n",
    "### The model response is obtained by convolving the Gabor filter with the stimulus and adding Gaussian noise to get a response with an SNR of 0.5"
   ]
  },
  {
   "cell_type": "code",
   "execution_count": 12,
   "metadata": {
    "collapsed": true
   },
   "outputs": [],
   "source": [
    "# Convolve the movie with the filter\n",
    "kernel = kernels[0]\n",
    "movie_vec = movie.reshape([movie.shape[0], -1])\n",
    "resp = np.dot(movie_vec, kernel.ravel())     # np.dot performs matrix multiplication\n",
    "\n",
    "# Add noise to the response\n",
    "resp_pow = np.var(resp)\n",
    "SNR = 0.5\n",
    "resp = resp + np.sqrt(resp_pow / SNR) * np.random.randn(len(resp), *resp.shape[1:])\n",
    "\n",
    "# Plot the firt 100 time points of the response\n",
    "fig, axs = plt.subplots()\n",
    "axs.plot(resp[0:100])"
   ]
  },
  {
   "cell_type": "markdown",
   "metadata": {},
   "source": [
    "# Recovering the filter.\n",
    "\n",
    "## Exercise 3.\n",
    "### Find the cross-correlation between the stimulus and the response (Note: In this case there is no time component).  Plot it and compare it to the original filter.  This is also the spike-triggered average or STA.\n",
    "### Find the stimulus auto-correlation and visualize it. Explain what you see."
   ]
  },
  {
   "cell_type": "code",
   "execution_count": 13,
   "metadata": {
    "collapsed": true
   },
   "outputs": [],
   "source": [
    "# YOUR CODE HERE\n",
    "raise NotImplementedError()"
   ]
  },
  {
   "cell_type": "code",
   "execution_count": 14,
   "metadata": {
    "collapsed": true
   },
   "outputs": [],
   "source": [
    "# YOUR CODE HERE\n",
    "raise NotImplementedError()"
   ]
  },
  {
   "cell_type": "markdown",
   "metadata": {},
   "source": [
    "## Exercise 4. \n",
    "### Estimate the filter using the normal equation: Cross-correlation/Auto-correlation\n",
    "### Hints: np.dot() is matrix multiplication and np.linalg.inv() can be used to obtain the inverse of the stimulus Auto-correlation.\n",
    "### Note in Python 3, you can use @ for np.dot()\n"
   ]
  },
  {
   "cell_type": "code",
   "execution_count": 15,
   "metadata": {
    "collapsed": true
   },
   "outputs": [],
   "source": [
    "# YOUR CODE HERE\n",
    "raise NotImplementedError()\n"
   ]
  },
  {
   "cell_type": "markdown",
   "metadata": {},
   "source": [
    "## Exercise 5.  Obtain the Filter using PCA regression. Try the projection in 10, 20, 50, 100 eigen dimensions. \n",
    "### Hints: You can perform an svd on a auto-correlation matrix to get the eigenvectors: np.linalg.svd()\n",
    "### Alternatively you can use the eigenvalue decomposition: np.linalg.eig()"
   ]
  },
  {
   "cell_type": "code",
   "execution_count": 16,
   "metadata": {
    "collapsed": true,
    "scrolled": true
   },
   "outputs": [],
   "source": [
    "# YOUR CODE HERE\n",
    "raise NotImplementedError()\n"
   ]
  },
  {
   "cell_type": "code",
   "execution_count": 17,
   "metadata": {
    "collapsed": true
   },
   "outputs": [],
   "source": [
    "# Obtain filters by calculating the filter in subspaces of 10, 20, 50 and 100.\n",
    "\n",
    "# YOUR CODE HERE\n",
    "raise NotImplementedError()\n"
   ]
  },
  {
   "cell_type": "code",
   "execution_count": 18,
   "metadata": {
    "collapsed": true
   },
   "outputs": [],
   "source": [
    "# Plot the results\n",
    "\n",
    "# YOUR CODE HERE\n",
    "raise NotImplementedError()\n"
   ]
  },
  {
   "cell_type": "code",
   "execution_count": 19,
   "metadata": {
    "collapsed": true
   },
   "outputs": [],
   "source": [
    "# Solution using eig\n",
    "\n",
    "# YOUR CODE HERE\n",
    "raise NotImplementedError()\n"
   ]
  },
  {
   "cell_type": "code",
   "execution_count": 21,
   "metadata": {
    "collapsed": true
   },
   "outputs": [],
   "source": [
    "# Now plot the results\n",
    "\n",
    "# YOUR CODE HERE\n",
    "raise NotImplementedError()\n"
   ]
  },
  {
   "cell_type": "code",
   "execution_count": 22,
   "metadata": {
    "collapsed": true
   },
   "outputs": [],
   "source": [
    "# Now plot all 100 eigenvectors of our natual movie.\n",
    "\n",
    "# YOUR CODE HERE\n",
    "raise NotImplementedError()\n"
   ]
  },
  {
   "cell_type": "markdown",
   "metadata": {},
   "source": [
    "## Excercise 6 (Optional).  Perform the same calculation in the Fourier Domain.  \n",
    "### In the Fourier domain the matrix division becomes a scalar division between two complex numbers. \n",
    "### This is a form of regularization as it assumes stationary second order statistics.\n",
    "\n",
    "### Instructions: First calculate the Fourier Transform of the cross-correlation and auto correlation function. You should do this calculation in the 10x10 space and for the auto correlation, you can either reshape and average the 100x100 auto-correlation function (averaring the block diagonals) or recalculate the power spectrum of the image. You can then divide the cross-correlation by the auto-correlation in the Fourier domain. Finally take the inverse FFT to get back the filter. Did it give exactly the same result?"
   ]
  },
  {
   "cell_type": "code",
   "execution_count": 24,
   "metadata": {
    "collapsed": true
   },
   "outputs": [],
   "source": [
    "# Calculate the auto correlation in the Fourier domain.\n",
    "\n",
    "# YOUR CODE HERE\n",
    "raise NotImplementedError()\n"
   ]
  },
  {
   "cell_type": "code",
   "execution_count": 25,
   "metadata": {
    "collapsed": true
   },
   "outputs": [],
   "source": [
    "# Calculate and plot stimulus power\n",
    "\n",
    "# YOUR CODE HERE\n",
    "raise NotImplementedError()\n"
   ]
  },
  {
   "cell_type": "code",
   "execution_count": 26,
   "metadata": {
    "collapsed": true
   },
   "outputs": [],
   "source": [
    "# Calculate the FFT of the cross-correlation, and derive the linear filter from this, then plot the results\n",
    "\n",
    "# YOUR CODE HERE\n",
    "raise NotImplementedError()\n"
   ]
  },
  {
   "cell_type": "markdown",
   "metadata": {},
   "source": [
    "## Exercise 7. Calculate the Ridge Solution.\n",
    "### Hint. Reuse the PCA regression code using values for lamba (the ridge parameter) of 0, 100, 1000 and 10000."
   ]
  },
  {
   "cell_type": "code",
   "execution_count": 30,
   "metadata": {
    "collapsed": true
   },
   "outputs": [],
   "source": [
    "# YOUR CODE HERE\n",
    "raise NotImplementedError()\n"
   ]
  },
  {
   "cell_type": "code",
   "execution_count": 31,
   "metadata": {
    "collapsed": true
   },
   "outputs": [],
   "source": [
    "# Plot the different ridge solutions\n",
    "\n",
    "# YOUR CODE HERE\n",
    "raise NotImplementedError()\n"
   ]
  },
  {
   "cell_type": "markdown",
   "metadata": {},
   "source": [
    "## Play around with other values of SNR and smaller amounts of data."
   ]
  }
 ],
 "metadata": {
  "kernelspec": {
   "display_name": "Python 3",
   "language": "python",
   "name": "python3"
  },
  "language_info": {
   "codemirror_mode": {
    "name": "ipython",
    "version": 3
   },
   "file_extension": ".py",
   "mimetype": "text/x-python",
   "name": "python",
   "nbconvert_exporter": "python",
   "pygments_lexer": "ipython3",
   "version": "3.5.3"
  }
 },
 "nbformat": 4,
 "nbformat_minor": 2
}
